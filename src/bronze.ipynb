{
 "cells": [
  {
   "cell_type": "code",
   "execution_count": 0,
   "metadata": {
    "application/vnd.databricks.v1+cell": {
     "cellMetadata": {
      "byteLimit": 2048000,
      "rowLimit": 10000
     },
     "inputWidgets": {},
     "nuid": "8e0dbf7d-cf40-4f7f-b73b-b918e99020ed",
     "showTitle": false,
     "tableResultSettingsMap": {},
     "title": ""
    }
   },
   "outputs": [],
   "source": [
    "from pyspark.sql.functions import lit"
   ]
  },
  {
   "cell_type": "code",
   "execution_count": 0,
   "metadata": {
    "application/vnd.databricks.v1+cell": {
     "cellMetadata": {
      "byteLimit": 2048000,
      "rowLimit": 10000
     },
     "inputWidgets": {},
     "nuid": "74aa647c-07e2-477c-9529-e403570c6f85",
     "showTitle": false,
     "tableResultSettingsMap": {},
     "title": ""
    }
   },
   "outputs": [],
   "source": [
    "# Lista de arquivos por mês\n",
    "months = [\"01\", \"02\", \"03\", \"04\", \"05\"]\n",
    "paths = [f\"s3a://case-ifood-matsuura/newyork/landing/yellow_tripdata_2023-{m}.parquet\" for m in months]\n",
    "\n",
    "# Capturar o schema base\n",
    "base_df = spark.read.parquet(paths[0])\n",
    "base_columns = base_df.columns\n",
    "\n",
    "# Inicializa o DataFrame com o primeiro arquivo, adicionando coluna 'file'\n",
    "bronze_df = base_df.withColumn(\"file\", lit(paths[0]))\n",
    "\n",
    "for path in paths[1:]:\n",
    "    df = spark.read.parquet(path)\n",
    "    \n",
    "    # Adiciona colunas ausentes\n",
    "    for col in base_columns:\n",
    "        if col not in df.columns:\n",
    "            df = df.withColumn(col, lit(None))\n",
    "    \n",
    "    # Reordena as colunas\n",
    "    df = df.select(base_columns)\n",
    "    \n",
    "    # Adiciona coluna 'file'\n",
    "    df = df.withColumn(\"file\", lit(path))\n",
    "    \n",
    "    # Junta ao DataFrame final\n",
    "    bronze_df = bronze_df.unionByName(df, allowMissingColumns=True)\n",
    "\n",
    "# Grava como tabela Delta\n",
    "bronze_df.write.format(\"delta\").mode(\"overwrite\").option(\"path\", \"s3a://case-ifood-matsuura/newyork/bronze/yellow_taxi\").option(\"mergeSchema\", \"true\").saveAsTable(\"newyork.bronze.yellow_taxi\")"
   ]
  },
  {
   "cell_type": "code",
   "execution_count": 0,
   "metadata": {
    "application/vnd.databricks.v1+cell": {
     "cellMetadata": {
      "byteLimit": 2048000,
      "implicitDf": true,
      "rowLimit": 10000
     },
     "inputWidgets": {},
     "nuid": "9faf0514-c34f-4b11-b7ef-384becc75fc0",
     "showTitle": false,
     "tableResultSettingsMap": {
      "0": {
       "dataGridStateBlob": "{\"version\":1,\"tableState\":{\"columnPinning\":{\"left\":[\"#row_number#\"],\"right\":[]},\"columnSizing\":{\"file\":503},\"columnVisibility\":{}},\"settings\":{\"columns\":{}},\"syncTimestamp\":1754269809058}",
       "filterBlob": null,
       "queryPlanFiltersBlob": null,
       "tableResultIndex": 0
      }
     },
     "title": ""
    }
   },
   "outputs": [],
   "source": [
    "bronze_df.groupBy(\"file\").count().display()"
   ]
  },
  {
   "cell_type": "code",
   "execution_count": 0,
   "metadata": {
    "application/vnd.databricks.v1+cell": {
     "cellMetadata": {
      "byteLimit": 2048000,
      "rowLimit": 10000
     },
     "inputWidgets": {},
     "nuid": "0851d4f5-b23c-4948-9cbe-d1accb4fa582",
     "showTitle": true,
     "tableResultSettingsMap": {},
     "title": "Apenas para validação visual"
    }
   },
   "outputs": [],
   "source": [
    "df = spark.read.parquet(\"s3a://case-ifood-matsuura/newyork/landing/yellow_tripdata_2023-01.parquet\")\n",
    "df.printSchema()"
   ]
  },
  {
   "cell_type": "code",
   "execution_count": 0,
   "metadata": {
    "application/vnd.databricks.v1+cell": {
     "cellMetadata": {
      "byteLimit": 2048000,
      "rowLimit": 10000
     },
     "inputWidgets": {},
     "nuid": "6055e250-abe4-4f5b-b1c2-6e13fd49c88f",
     "showTitle": true,
     "tableResultSettingsMap": {},
     "title": "Apenas para validação visual"
    }
   },
   "outputs": [],
   "source": [
    "df = spark.read.parquet(\"s3a://case-ifood-matsuura/newyork/landing/yellow_tripdata_2023-05.parquet\")\n",
    "df.printSchema()"
   ]
  }
 ],
 "metadata": {
  "application/vnd.databricks.v1+notebook": {
   "computePreferences": {
    "hardware": {
     "accelerator": null,
     "gpuPoolId": null,
     "memory": "HIGH"
    }
   },
   "dashboards": [],
   "environmentMetadata": {
    "base_environment": "",
    "environment_version": "3"
   },
   "inputWidgetPreferences": null,
   "language": "python",
   "notebookMetadata": {
    "mostRecentlyExecutedCommandWithImplicitDF": {
     "commandId": -1,
     "dataframes": [
      "_sqldf"
     ]
    },
    "pythonIndentUnit": 4
   },
   "notebookName": "bronze",
   "widgets": {}
  },
  "language_info": {
   "name": "python"
  }
 },
 "nbformat": 4,
 "nbformat_minor": 0
}
