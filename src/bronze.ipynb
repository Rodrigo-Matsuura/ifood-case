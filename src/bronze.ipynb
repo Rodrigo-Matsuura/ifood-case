{
 "cells": [
  {
   "cell_type": "code",
   "execution_count": 0,
   "metadata": {
    "application/vnd.databricks.v1+cell": {
     "cellMetadata": {},
     "inputWidgets": {},
     "nuid": "8e0dbf7d-cf40-4f7f-b73b-b918e99020ed",
     "showTitle": false,
     "tableResultSettingsMap": {},
     "title": ""
    }
   },
   "outputs": [],
   "source": [
    "from pyspark.sql.functions import lit\n",
    "from functools import reduce"
   ]
  },
  {
   "cell_type": "code",
   "execution_count": 0,
   "metadata": {
    "application/vnd.databricks.v1+cell": {
     "cellMetadata": {
      "byteLimit": 2048000,
      "rowLimit": 10000
     },
     "inputWidgets": {},
     "nuid": "74aa647c-07e2-477c-9529-e403570c6f85",
     "showTitle": false,
     "tableResultSettingsMap": {},
     "title": ""
    }
   },
   "outputs": [],
   "source": [
    "# Lista de arquivos por mês\n",
    "months = [\"01\", \"02\", \"03\", \"04\", \"05\"]\n",
    "paths = [f\"s3://case-ifood-matsuura/newyork/landing/yellow_tripdata_2023-{m}.parquet\" for m in months]\n",
    "\n",
    "# Capturar o schema base\n",
    "base_df = spark.read.parquet(paths[0])\n",
    "base_columns = base_df.columns\n",
    "\n",
    "# Lista final de dataframes ajustados\n",
    "bronze_df_list = []\n",
    "\n",
    "for path in paths:\n",
    "    df = spark.read.parquet(path)\n",
    "    \n",
    "    # Adiciona colunas ausentes com null\n",
    "    for col_name in base_columns:\n",
    "        if col_name not in df.columns:\n",
    "            df = df.withColumn(col_name, lit(None))\n",
    "    \n",
    "    # Garante que a ordem das colunas fique igual\n",
    "    df = df.select(base_columns)\n",
    "    \n",
    "    bronze_df_list.append(df)\n",
    "\n",
    "# Juntando tudo\n",
    "bronze_df = reduce(lambda df1, df2: df1.unionByName(df2, allowMissingColumns=True), bronze_df_list)\n",
    "\n",
    "# Grava como tabela Delta\n",
    "bronze_df.write.format(\"delta\").mode(\"overwrite\").saveAsTable(\"newyork.bronze.yellow_taxi\")\n"
   ]
  },
  {
   "cell_type": "code",
   "execution_count": 0,
   "metadata": {
    "application/vnd.databricks.v1+cell": {
     "cellMetadata": {
      "byteLimit": 2048000,
      "rowLimit": 10000
     },
     "inputWidgets": {},
     "nuid": "0851d4f5-b23c-4948-9cbe-d1accb4fa582",
     "showTitle": false,
     "tableResultSettingsMap": {},
     "title": ""
    }
   },
   "outputs": [],
   "source": [
    "df = spark.read.parquet(\"s3a://case-ifood-matsuura/newyork/landing/yellow_tripdata_2023-01.parquet\")\n",
    "df.printSchema()"
   ]
  }
 ],
 "metadata": {
  "application/vnd.databricks.v1+notebook": {
   "computePreferences": {
    "hardware": {
     "accelerator": null,
     "gpuPoolId": null,
     "memory": "HIGH"
    }
   },
   "dashboards": [],
   "environmentMetadata": {
    "base_environment": "",
    "environment_version": "3"
   },
   "inputWidgetPreferences": null,
   "language": "python",
   "notebookMetadata": {
    "mostRecentlyExecutedCommandWithImplicitDF": {
     "commandId": 8820588631350103,
     "dataframes": [
      "_sqldf"
     ]
    },
    "pythonIndentUnit": 4
   },
   "notebookName": "bronze",
   "widgets": {}
  },
  "language_info": {
   "name": "python"
  }
 },
 "nbformat": 4,
 "nbformat_minor": 0
}
