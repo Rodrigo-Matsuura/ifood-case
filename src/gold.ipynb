{
 "cells": [
  {
   "cell_type": "markdown",
   "metadata": {
    "application/vnd.databricks.v1+cell": {
     "cellMetadata": {
      "byteLimit": 2048000,
      "rowLimit": 10000
     },
     "inputWidgets": {},
     "nuid": "62b47343-4c1d-4a8b-a5c4-2f188146bbaa",
     "showTitle": false,
     "tableResultSettingsMap": {},
     "title": ""
    }
   },
   "source": [
    "### Criando views para responder as questões solicitadas"
   ]
  },
  {
   "cell_type": "code",
   "execution_count": 0,
   "metadata": {
    "application/vnd.databricks.v1+cell": {
     "cellMetadata": {
      "byteLimit": 2048000,
      "implicitDf": true,
      "rowLimit": 10000
     },
     "inputWidgets": {},
     "nuid": "fc6d37d0-900c-4618-841d-56ff0f2a0812",
     "showTitle": false,
     "tableResultSettingsMap": {},
     "title": ""
    }
   },
   "outputs": [],
   "source": [
    "%sql\n",
    "CREATE OR REPLACE VIEW newyork.gold.avg_total_amount_month AS\n",
    "(SELECT\n",
    "  MONTH(tpep_dropoff_datetime) AS month_dropoff,\n",
    "  YEAR(tpep_pickup_datetime) AS year,\n",
    "  AVG(total_amount) AS avg_total_amount\n",
    "FROM \n",
    "  newyork.silver.yellow_taxi\n",
    "GROUP BY \n",
    "  MONTH(tpep_dropoff_datetime),\n",
    "  YEAR(tpep_pickup_datetime))"
   ]
  },
  {
   "cell_type": "code",
   "execution_count": 0,
   "metadata": {
    "application/vnd.databricks.v1+cell": {
     "cellMetadata": {
      "byteLimit": 2048000,
      "implicitDf": true,
      "rowLimit": 10000
     },
     "inputWidgets": {},
     "nuid": "8fff1656-7f5c-4185-ba88-eac8c1363858",
     "showTitle": false,
     "tableResultSettingsMap": {},
     "title": ""
    }
   },
   "outputs": [],
   "source": [
    "%sql\n",
    "CREATE OR REPLACE VIEW newyork.gold.avg_passager_count_hourly AS\n",
    "(SELECT\n",
    "  HOUR(tpep_pickup_datetime) AS hora_do_dia,\n",
    "  AVG(passenger_count) AS media_de_passageiros\n",
    "  -- Caso faça sentido a média ser um valor inteiro\n",
    "  --CAST(AVG(passenger_count) AS INT) AS media_de_passageiros\n",
    "FROM\n",
    "  newyork.silver.yellow_taxi\n",
    "WHERE\n",
    "  MONTH(tpep_pickup_datetime) = 5 AND YEAR(tpep_pickup_datetime) = 2023\n",
    "GROUP BY\n",
    "  hora_do_dia\n",
    "ORDER BY\n",
    "  hora_do_dia)"
   ]
  },
  {
   "cell_type": "code",
   "execution_count": 0,
   "metadata": {
    "application/vnd.databricks.v1+cell": {
     "cellMetadata": {
      "byteLimit": 2048000,
      "implicitDf": true,
      "rowLimit": 10000
     },
     "inputWidgets": {},
     "nuid": "d01e647f-992d-4883-b54e-127d8077e16f",
     "showTitle": false,
     "tableResultSettingsMap": {},
     "title": ""
    }
   },
   "outputs": [],
   "source": [
    "%sql\n",
    "CREATE OR REPLACE VIEW newyork.gold.avg_total_amount_count_hourly AS\n",
    "(SELECT\n",
    "  HOUR(tpep_pickup_datetime) AS hora_do_dia,\n",
    "  AVG(total_amount) AS avg_total_amount_count_hourly\n",
    "FROM\n",
    "  newyork.silver.yellow_taxi\n",
    "WHERE\n",
    "  MONTH(tpep_pickup_datetime) = 5 AND YEAR(tpep_pickup_datetime) = 2023\n",
    "GROUP BY\n",
    "  hora_do_dia\n",
    "ORDER BY\n",
    "  hora_do_dia)"
   ]
  },
  {
   "cell_type": "code",
   "execution_count": 0,
   "metadata": {
    "application/vnd.databricks.v1+cell": {
     "cellMetadata": {
      "byteLimit": 2048000,
      "implicitDf": true,
      "rowLimit": 10000
     },
     "inputWidgets": {},
     "nuid": "b27566eb-29c2-4ba8-9297-632698fe7d60",
     "showTitle": false,
     "tableResultSettingsMap": {},
     "title": ""
    }
   },
   "outputs": [],
   "source": [
    "%sql\n",
    "CREATE OR REPLACE VIEW newyork.gold.rides_per_day AS\n",
    "(SELECT \n",
    "  date_format(tpep_pickup_datetime, 'E') AS dia_semana,\n",
    "  COUNT(*) AS total_corridas\n",
    "FROM newyork.silver.yellow_taxi\n",
    "GROUP BY dia_semana)"
   ]
  }
 ],
 "metadata": {
  "application/vnd.databricks.v1+notebook": {
   "computePreferences": null,
   "dashboards": [],
   "environmentMetadata": {
    "base_environment": "",
    "environment_version": "2"
   },
   "inputWidgetPreferences": null,
   "language": "python",
   "notebookMetadata": {
    "mostRecentlyExecutedCommandWithImplicitDF": {
     "commandId": 8905673078439695,
     "dataframes": [
      "_sqldf"
     ]
    },
    "pythonIndentUnit": 4
   },
   "notebookName": "gold",
   "widgets": {}
  },
  "language_info": {
   "name": "python"
  }
 },
 "nbformat": 4,
 "nbformat_minor": 0
}
